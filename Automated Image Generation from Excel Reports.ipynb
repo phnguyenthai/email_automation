{
 "cells": [
  {
   "cell_type": "code",
   "execution_count": 16,
   "id": "d40c44f7",
   "metadata": {},
   "outputs": [],
   "source": [
    "import xlwings as xw\n",
    "from PIL import ImageGrab\n",
    "import os\n",
    "import win32com.client as win32"
   ]
  },
  {
   "cell_type": "code",
   "execution_count": 17,
   "id": "db0c8cf1",
   "metadata": {},
   "outputs": [],
   "source": [
    "# Open and refresh all queries in the excel file\n",
    "\n",
    "\n",
    "# Define the file path\n",
    "file_path = 'C:/Users/phong/OneDrive/Desktop/auto_email/auto_email.xlsx'\n",
    "\n",
    "# Open the workbook and bring it to the foreground\n",
    "app = xw.App(visible=True)\n",
    "wb = xw.Book(file_path)\n",
    "\n",
    "# Bring the workbook to the foreground\n",
    "app.activate(steal_focus=True)\n",
    "\n",
    "# Refresh all data connections in the workbook\n",
    "wb.api.RefreshAll()\n",
    "\n",
    "# Optional: Save and close the workbook\n",
    "wb.save()\n",
    "wb.close()\n",
    "app.quit()"
   ]
  },
  {
   "cell_type": "code",
   "execution_count": 18,
   "id": "170d30ee",
   "metadata": {},
   "outputs": [
    {
     "name": "stdout",
     "output_type": "stream",
     "text": [
      "Image saved at C:/Users/phong/OneDrive/Desktop/auto_email/copied_image.bmp\n"
     ]
    }
   ],
   "source": [
    "# looping to find the condition.\n",
    "\n",
    "\n",
    "# Define the file path\n",
    "file_path = 'C:/Users/phong/OneDrive/Desktop/auto_email/auto_email.xlsx'\n",
    "output_image_path = 'C:/Users/phong/OneDrive/Desktop/auto_email/copied_image.bmp'\n",
    "\n",
    "# Open the workbook and select the sheet\n",
    "app = xw.App(visible=False)\n",
    "wb = xw.Book(file_path)\n",
    "sheet = wb.sheets['Sheet1']\n",
    "\n",
    "# Determine the dynamic range based on the condition\n",
    "last_row = 1\n",
    "for row in range(1, 101):\n",
    "    cell_value = sheet.range(f'A{row}').value\n",
    "    if cell_value is not None and cell_value != 0:\n",
    "        last_row = row\n",
    "\n",
    "range_to_copy = sheet.range(f'A1:C{last_row}')\n",
    "range_to_copy.api.CopyPicture(Format=2)  # Format=2 corresponds to Bitmap\n",
    "\n",
    "# Get the picture from the clipboard and save it\n",
    "img = ImageGrab.grabclipboard()\n",
    "if img:\n",
    "    img.save(output_image_path, 'BMP')\n",
    "    print(f\"Image saved at {output_image_path}\")\n",
    "else:\n",
    "    print(\"No image found in clipboard\")\n",
    "\n",
    "# Clean up\n",
    "wb.close()\n",
    "app.quit()\n"
   ]
  },
  {
   "cell_type": "code",
   "execution_count": 19,
   "id": "071ee930",
   "metadata": {},
   "outputs": [
    {
     "name": "stdout",
     "output_type": "stream",
     "text": [
      "Email sent successfully with BMP attachments.\n"
     ]
    }
   ],
   "source": [
    "# Define the folder path\n",
    "folder_path = 'C:/Users/phong/OneDrive/Desktop/auto_email'\n",
    "\n",
    "# Get all BMP files in the folder\n",
    "bmp_files = [f for f in os.listdir(folder_path) if f.endswith('.bmp')]\n",
    "\n",
    "# Create an Outlook application instance\n",
    "outlook = win32.Dispatch('outlook.application')\n",
    "\n",
    "# Create a new mail item\n",
    "mail = outlook.CreateItem(0)\n",
    "\n",
    "# Define the recipient, subject, and body of the email\n",
    "mail.To = 'phnguyenthai@gmail.com'\n",
    "mail.Subject = 'Auto Email with BMP Attachments'\n",
    "mail.Body = 'Please find the attached BMP images.'\n",
    "\n",
    "# Attach all BMP files to the email\n",
    "for bmp_file in bmp_files:\n",
    "    attachment_path = os.path.join(folder_path, bmp_file)\n",
    "    mail.Attachments.Add(attachment_path)\n",
    "\n",
    "# Send the email\n",
    "mail.Send()\n",
    "\n",
    "print(\"Email sent successfully with BMP attachments.\")\n"
   ]
  }
 ],
 "metadata": {
  "kernelspec": {
   "display_name": "Python 3 (ipykernel)",
   "language": "python",
   "name": "python3"
  },
  "language_info": {
   "codemirror_mode": {
    "name": "ipython",
    "version": 3
   },
   "file_extension": ".py",
   "mimetype": "text/x-python",
   "name": "python",
   "nbconvert_exporter": "python",
   "pygments_lexer": "ipython3",
   "version": "3.11.5"
  }
 },
 "nbformat": 4,
 "nbformat_minor": 5
}
